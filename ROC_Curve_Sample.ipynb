{
 "cells": [
  {
   "cell_type": "markdown",
   "metadata": {},
   "source": [
    "## This jupyter notebook implements a ROC curve analysis, a type of model evaluation metric.\n",
    "\n",
    "An ROC curve provides the performance of a classifier as we manipulate its decision threshold. Performance is measured as a function of True Positive Rate (TPR) and False Positive Rate (FPR). The function plot_roc_curve() can do this automatically, as opposed to changing the decision threshold manually and recording TPR and FPR."
   ]
  },
  {
   "cell_type": "markdown",
   "metadata": {},
   "source": [
    "### Import packages as well as a toy dataset, and then split the data."
   ]
  },
  {
   "cell_type": "code",
   "execution_count": null,
   "metadata": {},
   "outputs": [],
   "source": [
    "from sklearn.model_selection import train_test_split\n",
    "from sklearn.datasets import load_wine\n",
    "from sklearn.svm import SVC\n",
    "from sklearn.ensemble import RandomForestClassifier\n",
    "from sklearn.linear_model import LogisticRegression\n",
    "import pandas as pd\n",
    "import numpy as np\n",
    "\n",
    "X, y = load_wine(return_X_y = True)\n",
    "\n",
    "X_train, X_test, y_train, y_test = train_test_split(X, y, test_size = .3)"
   ]
  },
  {
   "cell_type": "markdown",
   "metadata": {},
   "source": [
    "### Call three seperate models and fit the mo the training data. Print the accuracy of the three models."
   ]
  },
  {
   "cell_type": "code",
   "execution_count": null,
   "metadata": {},
   "outputs": [],
   "source": [
    "clf1 = SVC(gamma = 'scale', probability = True)\n",
    "clf1.fit(X_train, y_train)\n",
    "\n",
    "svc_score = clf1.score(X_test, y_test)\n",
    "\n",
    "clf2 = RandomForestClassifier(n_estimators = 100)\n",
    "clf2.fit(X_Train, y_train)\n",
    "\n",
    "rfc_score = clf2.score(X_test, y_test)\n",
    "\n",
    "clf3 = LogisticRegression(multi_class = 'auto', solver = 'lbfgs')\n",
    "clf3.fit(X_train, y_train)\n",
    "\n",
    "log_reg_score = clf3.score(X_test, y_test)\n",
    "\n",
    "print('svc score was... ', svc_score, ' ,rfc score was... ', rfc_score, ' ,logreg score was...', log_reg_score)"
   ]
  },
  {
   "cell_type": "markdown",
   "metadata": {},
   "source": [
    "### Scikit-plot, a useful visualization package, is not automatically loaded in SageMaker so install the package into the current notebook."
   ]
  },
  {
   "cell_type": "code",
   "execution_count": null,
   "metadata": {},
   "outputs": [],
   "source": [
    "!pip install scikit-plot"
   ]
  },
  {
   "cell_type": "markdown",
   "metadata": {},
   "source": [
    "### Finally, set the figure attributes and use the plot_roc_curve() function to create the plot."
   ]
  },
  {
   "cell_type": "code",
   "execution_count": null,
   "metadata": {},
   "outputs": [],
   "source": [
    "import sklearn.metrics as metrics\n",
    "import scikitplot as skplt\n",
    "import matplotlib.pyplot as plt\n",
    "\n",
    "from pylab import rcParams\n",
    "rcParams['figure.figsize'] = 10, 10\n",
    "rcParams['figure.dpi'] = 300\n",
    "rcParams['font.size'] = 12\n",
    "\n",
    "y_true = y_test\n",
    "y_probas = clf1.predict_proba(X_test)\n",
    "\n",
    "skplt.metrics.plot_roc_curve(y_true, y_probas)\n",
    "\n",
    "plt.show"
   ]
  }
 ],
 "metadata": {
  "kernelspec": {
   "display_name": "Python 3",
   "language": "python",
   "name": "python3"
  },
  "language_info": {
   "codemirror_mode": {
    "name": "ipython",
    "version": 3
   },
   "file_extension": ".py",
   "mimetype": "text/x-python",
   "name": "python",
   "nbconvert_exporter": "python",
   "pygments_lexer": "ipython3",
   "version": "3.7.3"
  }
 },
 "nbformat": 4,
 "nbformat_minor": 2
}
